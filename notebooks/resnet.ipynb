{
 "cells": [
  {
   "cell_type": "code",
   "execution_count": 2,
   "metadata": {},
   "outputs": [],
   "source": [
    "import tensorflow.keras.backend as K\n",
    "import tensorflow as tf\n",
    "from tensorflow.keras.layers import Conv2D, BatchNormalization, Dense, GlobalAveragePooling2D, MaxPool2D\n",
    "from tensorflow.keras.models import Model\n",
    "from tensorflow.keras.optimizers import SGD, Adam, RMSprop"
   ]
  },
  {
   "cell_type": "code",
   "execution_count": 7,
   "metadata": {},
   "outputs": [],
   "source": [
    "IMG_HEIGHT, IMG_WIDTH = 300, 300"
   ]
  },
  {
   "cell_type": "code",
   "execution_count": 12,
   "metadata": {},
   "outputs": [],
   "source": [
    "class ResNetBlock(Model):\n",
    "    def __init__(self, filters, kernel_size = (3, 3), strides=1):\n",
    "        super(ResNetBlock, self).__init__()\n",
    "        self.filters = filters\n",
    "        self.kernel_size = kernel_size\n",
    "        self.strides = strides\n",
    "\n",
    "        self.conv_0 = Conv2D(\n",
    "            input_shape = (IMG_HEIGHT, IMG_WIDTH), kernel_size=self.kernel_size, filters=self.filters, padding='SAME', activation='relu',\n",
    "            strides = self.strides\n",
    "        )\n",
    "\n",
    "        self.conv_1 = Conv2D(\n",
    "            input_shape = (IMG_HEIGHT, IMG_WIDTH), kernel_size=self.kernel_size, filters=self.filters, padding='SAME', activation='relu',\n",
    "            strides = self.strides\n",
    "        )\n",
    "\n",
    "    def call(self, inputs):\n",
    "        x = self.conv_0(inputs)\n",
    "        x = self.conv_1(x)\n",
    "        x = BatchNormalization()(x)\n",
    "        return x"
   ]
  },
  {
   "cell_type": "code",
   "execution_count": 16,
   "metadata": {},
   "outputs": [],
   "source": [
    "class ResNet(Model):\n",
    "    def __init__(self, n_blocks, n_classes):\n",
    "        super(ResNet, self).__init__()\n",
    "        self.conv_0 = Conv2D(kernel_size=(3, 3), filters=64, strides=2, padding='SAME', activation='relu')\n",
    "        self.maxpool = MaxPool2D(pool_size=(3, 3), strides=2)\n",
    "        self.n_blocks = n_blocks\n",
    "        self.n_classes = n_classes\n",
    "        for i in range(1, n_blocks + 1):\n",
    "            vars(self)[f\"block_{i}\"] = ResNetBlock(\n",
    "                64, 3, 1\n",
    "            )\n",
    "\n",
    "        self.avgpool = GlobalAveragePooling2D()\n",
    "        self.classifier = Dense(units=n_classes, activation='softmax')\n",
    "\n",
    "    def call(self, inputs):\n",
    "        x = self.conv_0(inputs)\n",
    "        x = self.maxpool(x)\n",
    "        for i in range(1, self.n_blocks + 1):\n",
    "            x = vars(self)[f\"block_{i}\"](x)\n",
    "        \n",
    "        x = self.avgpool(x)\n",
    "        x = self.classifier(x)\n",
    "        return x\n"
   ]
  },
  {
   "cell_type": "code",
   "execution_count": 17,
   "metadata": {},
   "outputs": [],
   "source": [
    "model = ResNet(5, 10)"
   ]
  },
  {
   "cell_type": "code",
   "execution_count": 19,
   "metadata": {},
   "outputs": [],
   "source": [
    "model.compile(loss='sparse_categorical_crossentropy', optimizer=SGD(), metrics=['accuracy'])"
   ]
  },
  {
   "cell_type": "code",
   "execution_count": null,
   "metadata": {},
   "outputs": [],
   "source": []
  }
 ],
 "metadata": {
  "kernelspec": {
   "display_name": "cv-env",
   "language": "python",
   "name": "cv-env"
  },
  "language_info": {
   "codemirror_mode": {
    "name": "ipython",
    "version": 3
   },
   "file_extension": ".py",
   "mimetype": "text/x-python",
   "name": "python",
   "nbconvert_exporter": "python",
   "pygments_lexer": "ipython3",
   "version": "3.8.10"
  },
  "orig_nbformat": 4,
  "vscode": {
   "interpreter": {
    "hash": "916dbcbb3f70747c44a77c7bcd40155683ae19c65e1c03b4aa3499c5328201f1"
   }
  }
 },
 "nbformat": 4,
 "nbformat_minor": 2
}
